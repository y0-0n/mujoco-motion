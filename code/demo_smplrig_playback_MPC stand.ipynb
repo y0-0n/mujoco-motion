{
 "cells": [
  {
   "cell_type": "markdown",
   "id": "a29fe503",
   "metadata": {},
   "source": [
    "# Playback with  `MPC dataset` and `Ground Truth`"
   ]
  },
  {
   "cell_type": "code",
   "execution_count": 7,
   "id": "61519755",
   "metadata": {},
   "outputs": [
    {
     "name": "stdout",
     "output_type": "stream",
     "text": [
      "MuJoCo version:[2.3.7]\n"
     ]
    }
   ],
   "source": [
    "import torch\n",
    "import mujoco\n",
    "import numpy as np\n",
    "import matplotlib.pyplot as plt\n",
    "from mujoco_parser import MuJoCoParserClass\n",
    "from util import rpy2r\n",
    "import pickle\n",
    "import mediapy as media\n",
    "\n",
    "from policy import GaussianPolicy\n",
    "\n",
    "np.set_printoptions(precision=2,suppress=True,linewidth=100)\n",
    "plt.rc('xtick',labelsize=6); plt.rc('ytick',labelsize=6)\n",
    "%config InlineBackend.figure_format = 'retina'\n",
    "# %matplotlib inline\n",
    "print (\"MuJoCo version:[%s]\"%(mujoco.__version__))"
   ]
  },
  {
   "cell_type": "markdown",
   "id": "cdecc08c",
   "metadata": {},
   "source": [
    "### Load `MPC dataset`"
   ]
  },
  {
   "cell_type": "code",
   "execution_count": 8,
   "id": "4d9313b7",
   "metadata": {},
   "outputs": [
    {
     "name": "stdout",
     "output_type": "stream",
     "text": [
      "obs :  torch.Size([30000, 87])\n",
      "action :  torch.Size([30000, 37])\n"
     ]
    }
   ],
   "source": [
    "with open(file='../data/qposnoise smpl stand v3.pkl', mode='rb') as f:\n",
    "    dataset = pickle.load(f)\n",
    "\n",
    "horizon = 300\n",
    "\n",
    "action_batch = torch.Tensor(dataset['action'])\n",
    "qpos_batch = torch.Tensor(dataset['qpos'])\n",
    "qvel_batch = torch.Tensor(dataset['qvel'])\n",
    "\n",
    "action_batch = action_batch.reshape(action_batch.shape[0] * horizon, -1)\n",
    "qpos_batch = qpos_batch.reshape(qpos_batch.shape[0] * horizon, -1)\n",
    "qvel_batch = qvel_batch.reshape(qvel_batch.shape[0] * horizon, -1)\n",
    "\n",
    "del dataset\n",
    "\n",
    "qpos_batch = qpos_batch[:, :]\n",
    "# qpos_batch = torch.cat((qpos_batch[:-2, :],qpos_batch[1:-1, :],qpos_batch[2:, :]),dim=1)\n",
    "# qvel_batch = torch.cat((qvel_batch[:-2, :],qvel_batch[1:-1, :],qvel_batch[2:, :]),dim=1)\n",
    "\n",
    "obs_batch = torch.cat((qpos_batch, qvel_batch), dim=1)\n",
    "\n",
    "# action_batch = action_batch[2:]\n",
    "obs_dim = obs_batch.shape[1]\n",
    "action_dim = action_batch.shape[1]\n",
    "hidden_dim = 512\n",
    "\n",
    "print(\"obs : \", obs_batch.shape)\n",
    "print(\"action : \", action_batch.shape)\n"
   ]
  },
  {
   "cell_type": "code",
   "execution_count": 9,
   "id": "aa6bc48a",
   "metadata": {},
   "outputs": [
    {
     "name": "stdout",
     "output_type": "stream",
     "text": [
      "dt:[0.0020] HZ:[500]\n",
      "n_dof (=nv):[43]\n",
      "n_geom:[67]\n",
      "geom_names:['floor', 'base', 'base2lpelvis', 'base2rpelvis', 'base2spine1', 'spine2spine', 'spine2spine2', 'spine2spine3', 'spine2lcollar', 'spine2rcollar', 'neck2head', 'head', 'nose', 'lcollar2lshoulder', 'lshoulder2lelbow', 'lelbow2lwrist', 'lwrist2lindex1', 'lwrist2lmiddle1', 'lwrist2lpinky1', 'lwrist2lring1', 'lwrist2lthumb1', 'lindex1-lindex2', 'lindex2-lindex3', 'lindex3-lindextip', 'lmiddle1-lmiddle2', 'lmiddle2-lmiddle3', 'lmiddl3-lmiddletip', 'lring1-lring2', 'lring2-lring3', 'lring3-lringtip', 'lpinky1-lpinky2', 'lpinky2-lpinky3', 'lpinky3-lpinkytip', 'lthumb1-lthumb2', 'lthumb2-lthumb3', 'lthumb3-lthumbtip', 'rcollar2rshoulder', 'rshoulder2relbow', 'relbow2rwrist', 'rwrist2rindex1', 'rwrist2rmiddle1', 'rwrist2rpinky1', 'rwrist2rring1', 'rwrist2rthumb1', 'rindex1-rindex2', 'rindex2-rindex3', 'rindex3-rindextip', 'rmiddle1-rmiddle2', 'rmiddle2-rmiddle3', 'rmiddle3-rmiddletip', 'rring1-rring2', 'rring2-rring3', 'rring3-rringtip', 'rpinky1-rpinky2', 'rpinky2-rpinky3', 'rpinky3-rpinkytip', 'rthumb1-rthumb2', 'rthumb2-rthumb3', 'rthumb3-rthumbtip', 'lpelvis2lknee', 'lknee2lankle', 'foot1_left', 'foot2_left', 'rpelvis2rknee', 'rknee2rankle', 'foot1_right', 'foot2_right']\n",
      "n_body:[62]\n",
      "body_names:['world', 'base', 'root', 'spine1', 'spine2', 'spine3', 'neck', 'head', 'left_collar', 'left_shoulder', 'left_elbow', 'left_wrist', 'left_index1', 'left_index2', 'left_index3', 'left_index4', 'left_middle1', 'left_middle2', 'left_middle3', 'left_middle4', 'left_ring1', 'left_ring2', 'left_ring3', 'left_ring4', 'left_pinky1', 'left_pinky2', 'left_pinky3', 'left_pinky4', 'left_thumb1', 'left_thumb2', 'left_thumb3', 'left_thumb4', 'right_collar', 'right_shoulder', 'right_elbow', 'right_wrist', 'right_index1', 'right_index2', 'right_index3', 'right_index4', 'right_middle1', 'right_middle2', 'right_middle3', 'right_middle4', 'right_ring1', 'right_ring2', 'right_ring3', 'right_ring4', 'right_pinky1', 'right_pinky2', 'right_pinky3', 'right_pinky4', 'right_thumb1', 'right_thumb2', 'right_thumb3', 'right_thumb4', 'left_pelvis', 'left_knee', 'left_ankle', 'right_pelvis', 'right_knee', 'right_ankle']\n",
      "n_joint:[38]\n",
      "joint_names:['base', 'root1', 'root2', 'root3', 'spine1', 'spine2', 'spine3', 'head1', 'head2', 'head3', 'l_shoulder1', 'l_shoulder2', 'l_shoulder3', 'l_elbow', 'l_wrist1', 'l_wrist2', 'l_wrist3', 'r_shoulder1', 'r_shoulder2', 'r_shoulder3', 'r_elbow', 'r_wrist1', 'r_wrist2', 'r_wrist3', 'l_pelvis1', 'l_pelvis2', 'l_pelvis3', 'l_knee', 'l_ankle1', 'l_ankle2', 'l_ankle3', 'r_pelvis1', 'r_pelvis2', 'r_pelvis3', 'r_knee', 'r_ankle1', 'r_ankle2', 'r_ankle3']\n",
      "joint_types:[0 3 3 3 3 3 3 3 3 3 3 3 3 3 3 3 3 3 3 3 3 3 3 3 3 3 3 3 3 3 3 3 3 3 3 3 3 3]\n",
      "joint_ranges:\n",
      "[[ 0.    0.  ]\n",
      " [-1.5   1.5 ]\n",
      " [-1.5   1.5 ]\n",
      " [-1.5   1.5 ]\n",
      " [-1.5   1.5 ]\n",
      " [-1.5   1.5 ]\n",
      " [-1.5   1.5 ]\n",
      " [-1.57  1.57]\n",
      " [-1.57  1.57]\n",
      " [-1.57  1.57]\n",
      " [-3.14  3.14]\n",
      " [-3.14  3.14]\n",
      " [-3.14  3.14]\n",
      " [-2.62 -0.01]\n",
      " [-3.14  3.14]\n",
      " [-3.14  3.14]\n",
      " [-3.14  3.14]\n",
      " [-3.14  3.14]\n",
      " [-3.14  3.14]\n",
      " [-3.14  3.14]\n",
      " [ 0.01  2.62]\n",
      " [-3.14  3.14]\n",
      " [-3.14  3.14]\n",
      " [-3.14  3.14]\n",
      " [-0.3   0.3 ]\n",
      " [-1.5   0.3 ]\n",
      " [-0.5   0.3 ]\n",
      " [ 0.02  2.09]\n",
      " [-0.3   0.3 ]\n",
      " [-0.3   0.3 ]\n",
      " [-0.3   0.3 ]\n",
      " [-0.3   0.3 ]\n",
      " [-1.5   0.3 ]\n",
      " [-0.5   0.3 ]\n",
      " [ 0.02  2.09]\n",
      " [-0.3   0.3 ]\n",
      " [-0.3   0.3 ]\n",
      " [-0.3   0.3 ]]\n",
      "n_rev_joint:[37]\n",
      "rev_joint_idxs:[ 1  2  3  4  5  6  7  8  9 10 11 12 13 14 15 16 17 18 19 20 21 22 23 24 25 26 27 28 29 30 31 32 33\n",
      " 34 35 36 37]\n",
      "rev_joint_names:['root1', 'root2', 'root3', 'spine1', 'spine2', 'spine3', 'head1', 'head2', 'head3', 'l_shoulder1', 'l_shoulder2', 'l_shoulder3', 'l_elbow', 'l_wrist1', 'l_wrist2', 'l_wrist3', 'r_shoulder1', 'r_shoulder2', 'r_shoulder3', 'r_elbow', 'r_wrist1', 'r_wrist2', 'r_wrist3', 'l_pelvis1', 'l_pelvis2', 'l_pelvis3', 'l_knee', 'l_ankle1', 'l_ankle2', 'l_ankle3', 'r_pelvis1', 'r_pelvis2', 'r_pelvis3', 'r_knee', 'r_ankle1', 'r_ankle2', 'r_ankle3']\n",
      "rev_joint_mins:[-1.5  -1.5  -1.5  -1.5  -1.5  -1.5  -1.57 -1.57 -1.57 -3.14 -3.14 -3.14 -2.62 -3.14 -3.14 -3.14\n",
      " -3.14 -3.14 -3.14  0.01 -3.14 -3.14 -3.14 -0.3  -1.5  -0.5   0.02 -0.3  -0.3  -0.3  -0.3  -1.5\n",
      " -0.5   0.02 -0.3  -0.3  -0.3 ]\n",
      "rev_joint_maxs:[ 1.5   1.5   1.5   1.5   1.5   1.5   1.57  1.57  1.57  3.14  3.14  3.14 -0.01  3.14  3.14  3.14\n",
      "  3.14  3.14  3.14  2.62  3.14  3.14  3.14  0.3   0.3   0.3   2.09  0.3   0.3   0.3   0.3   0.3\n",
      "  0.3   2.09  0.3   0.3   0.3 ]\n",
      "rev_joint_ranges:[3.   3.   3.   3.   3.   3.   3.14 3.14 3.14 6.28 6.28 6.28 2.61 6.28 6.28 6.28 6.28 6.28 6.28\n",
      " 2.61 6.28 6.28 6.28 0.6  1.8  0.8  2.08 0.6  0.6  0.6  0.6  1.8  0.8  2.08 0.6  0.6  0.6 ]\n",
      "n_pri_joint:[0]\n",
      "pri_joint_idxs:[]\n",
      "pri_joint_names:[]\n",
      "pri_joint_mins:[]\n",
      "pri_joint_maxs:[]\n",
      "pri_joint_ranges:[]\n",
      "n_ctrl:[37]\n",
      "ctrl_names:['root1', 'root2', 'root3', 'spine1', 'spine2', 'spine3', 'head1', 'head2', 'head3', 'l_shoulder1', 'l_shoulder2', 'l_shoulder3', 'l_elbow', 'l_wrist1', 'l_wrist2', 'l_wrist3', 'r_shoulder1', 'r_shoulder2', 'r_shoulder3', 'r_elbow', 'r_wrist1', 'r_wrist2', 'r_wrist3', 'l_pelvis1', 'l_pelvis2', 'l_pelvis3', 'l_knee', 'l_ankle1', 'l_ankle2', 'l_ankle3', 'r_pelvis1', 'r_pelvis2', 'r_pelvis3', 'r_knee', 'r_ankle1', 'r_ankle2', 'r_ankle3']\n",
      "ctrl_joint_idxs:[7, 8, 9, 10, 11, 12, 13, 14, 15, 16, 17, 18, 19, 20, 21, 22, 23, 24, 25, 26, 27, 28, 29, 30, 31, 32, 33, 34, 35, 36, 37, 38, 39, 40, 41, 42, 43]\n",
      "ctrl_joint_names:['root1', 'root2', 'root3', 'spine1', 'spine2', 'spine3', 'head1', 'head2', 'head3', 'l_shoulder1', 'l_shoulder2', 'l_shoulder3', 'l_elbow', 'l_wrist1', 'l_wrist2', 'l_wrist3', 'r_shoulder1', 'r_shoulder2', 'r_shoulder3', 'r_elbow', 'r_wrist1', 'r_wrist2', 'r_wrist3', 'l_pelvis1', 'l_pelvis2', 'l_pelvis3', 'l_knee', 'l_ankle1', 'l_ankle2', 'l_ankle3', 'r_pelvis1', 'r_pelvis2', 'r_pelvis3', 'r_knee', 'r_ankle1', 'r_ankle2', 'r_ankle3']\n",
      "ctrl_qvel_idxs:[6, 7, 8, 9, 10, 11, 12, 13, 14, 15, 16, 17, 18, 19, 20, 21, 22, 23, 24, 25, 26, 27, 28, 29, 30, 31, 32, 33, 34, 35, 36, 37, 38, 39, 40, 41, 42]\n",
      "ctrl_ranges:\n",
      "[[-1.  1.]\n",
      " [-1.  1.]\n",
      " [-1.  1.]\n",
      " [-1.  1.]\n",
      " [-1.  1.]\n",
      " [-1.  1.]\n",
      " [-1.  1.]\n",
      " [-1.  1.]\n",
      " [-1.  1.]\n",
      " [-1.  1.]\n",
      " [-1.  1.]\n",
      " [-1.  1.]\n",
      " [-1.  1.]\n",
      " [-1.  1.]\n",
      " [-1.  1.]\n",
      " [-1.  1.]\n",
      " [-1.  1.]\n",
      " [-1.  1.]\n",
      " [-1.  1.]\n",
      " [-1.  1.]\n",
      " [-1.  1.]\n",
      " [-1.  1.]\n",
      " [-1.  1.]\n",
      " [-1.  1.]\n",
      " [-1.  1.]\n",
      " [-1.  1.]\n",
      " [-1.  1.]\n",
      " [-1.  1.]\n",
      " [-1.  1.]\n",
      " [-1.  1.]\n",
      " [-1.  1.]\n",
      " [-1.  1.]\n",
      " [-1.  1.]\n",
      " [-1.  1.]\n",
      " [-1.  1.]\n",
      " [-1.  1.]\n",
      " [-1.  1.]]\n",
      "n_sensor:[0]\n",
      "sensor_names:[]\n",
      "n_site:[20]\n",
      "site_names:['tracking[pelvis]', 'pelvis_site', 'base2spine1', 'spine2spine2', 'spine2spine3', 'head', 'tracking[lhand]', 'tracking[rhand]', 'lpelvis2lknee', 'lknee2lankle', 'lankle', 'foot_left', 'sp0', 'sp1', 'rpelvis2rknee', 'rknee2rankle', 'rankle', 'foot_right', 'sp2', 'sp3']\n",
      "Done.\n"
     ]
    }
   ],
   "source": [
    "xml_path = '../asset/smpl_rig/scene_smpl_rig.xml'\n",
    "env = MuJoCoParserClass(name='smplrig',rel_xml_path=xml_path,VERBOSE=True)\n",
    "# Modify the color of body exluding 'world'\n",
    "for body_name in env.body_names:\n",
    "    if body_name in ['world']: continue\n",
    "    body_idx = env.body_names.index(body_name)\n",
    "    geom_idxs = [idx for idx,val in enumerate(env.model.geom_bodyid) if val==body_idx]\n",
    "    for geom_idx in geom_idxs:\n",
    "        env.model.geom(geom_idx).rgba = [0.3,0.3,0.5,0.5]\n",
    "print (\"Done.\")"
   ]
  },
  {
   "cell_type": "code",
   "execution_count": 10,
   "id": "d6e00205",
   "metadata": {},
   "outputs": [],
   "source": [
    "# Set which joints to control\n",
    "ctrl_joint_names = env.ctrl_joint_names # <==\n",
    "joint_idxs_fwd = env.get_idxs_fwd(joint_names=ctrl_joint_names)\n",
    "joint_idxs_jac = env.get_idxs_jac(joint_names=ctrl_joint_names)\n",
    "q_ctrl_init = env.get_qpos_joints(ctrl_joint_names)\n",
    "n_ctrl_joint = len(ctrl_joint_names)"
   ]
  },
  {
   "cell_type": "markdown",
   "id": "652ca9e4",
   "metadata": {},
   "source": [
    "### Load `Ground Truth`"
   ]
  },
  {
   "cell_type": "code",
   "execution_count": 11,
   "id": "18ebeddb",
   "metadata": {},
   "outputs": [],
   "source": [
    "# GT Stand \n",
    "GT = {}\n",
    "env.forward(qpos_batch[0])\n",
    "GT['xpos'] = env.data.xpos.reshape((1,)+(env.data.xpos.shape)).copy()\n",
    "GT['length'] = 1"
   ]
  },
  {
   "cell_type": "code",
   "execution_count": 12,
   "id": "6b81f77f",
   "metadata": {},
   "outputs": [
    {
     "name": "stdout",
     "output_type": "stream",
     "text": [
      "Pressed ESC\n",
      "Quitting.\n",
      "Done.\n"
     ]
    },
    {
     "name": "stderr",
     "output_type": "stream",
     "text": [
      "2024-01-23 16:04:51.341 python[26193:271601] TSM AdjustCapsLockLEDForKeyTransitionHandling - _ISSetPhysicalKeyboardCapsLockLED Inhibit\n"
     ]
    }
   ],
   "source": [
    "# Initialize MuJoCo viewer\n",
    "env.init_viewer(viewer_title='SMPL',viewer_width=1200,viewer_height=800,\n",
    "                viewer_hide_menus=False)\n",
    "env.update_viewer(azimuth=152,distance=3.0,elevation=-20,lookat=[0.02,-0.03,1.2])\n",
    "env.reset()\n",
    "\n",
    "tick = 0\n",
    "tick_inc = 300\n",
    "image_list = []\n",
    "while env.is_viewer_alive():\n",
    "\n",
    "    qpos = qpos_batch[env.tick+tick_inc]\n",
    "    env.forward(qpos)\n",
    "    \n",
    "    if env.loop_every(tick_every=1):\n",
    "        # Plot world frame\n",
    "        env.plot_T(p=np.zeros(3),R=np.eye(3,3),\n",
    "                   PLOT_AXIS=True,axis_len=0.5,axis_width=0.005)\n",
    "        env.plot_T(p=np.array([0,0,0.5]),R=np.eye(3,3),\n",
    "                   PLOT_AXIS=False,label=\"tick:[%d]\"%(env.tick))\n",
    "\n",
    "        # Stand\n",
    "        for p_GT in GT['xpos'][(env.tick+tick_inc) % GT['length']]:\n",
    "            env.plot_sphere(p=p_GT,r=0.02,rgba=[1,0.2,0.2,1])\n",
    "        \n",
    "        env.render()\n",
    "\n",
    "        if env.tick > 0 and env.tick % 1000 == 0:\n",
    "            env.tick += 1\n",
    "            \n",
    "# Close MuJoCo viewer\n",
    "env.close_viewer()\n",
    "print (\"Done.\")"
   ]
  },
  {
   "cell_type": "code",
   "execution_count": 6,
   "id": "8018cd53",
   "metadata": {},
   "outputs": [],
   "source": [
    "with media.VideoWriter(\n",
    "    \"x.mp4\", shape=(480, 640), fps=5) as w:\n",
    "    for image in image_list:\n",
    "        w.add_image(image)"
   ]
  },
  {
   "cell_type": "code",
   "execution_count": 7,
   "id": "6d6fee17",
   "metadata": {},
   "outputs": [
    {
     "ename": "IndexError",
     "evalue": "list index out of range",
     "output_type": "error",
     "traceback": [
      "\u001b[0;31m---------------------------------------------------------------------------\u001b[0m",
      "\u001b[0;31mIndexError\u001b[0m                                Traceback (most recent call last)",
      "Cell \u001b[0;32mIn[7], line 1\u001b[0m\n\u001b[0;32m----> 1\u001b[0m \u001b[43mimage_list\u001b[49m\u001b[43m[\u001b[49m\u001b[38;5;241;43m0\u001b[39;49m\u001b[43m]\u001b[49m\u001b[38;5;241m.\u001b[39mshape\n",
      "\u001b[0;31mIndexError\u001b[0m: list index out of range"
     ]
    }
   ],
   "source": [
    "image_list[0].shape"
   ]
  },
  {
   "cell_type": "code",
   "execution_count": null,
   "id": "742cf409",
   "metadata": {},
   "outputs": [],
   "source": []
  }
 ],
 "metadata": {
  "kernelspec": {
   "display_name": "snapbot",
   "language": "python",
   "name": "python3"
  },
  "language_info": {
   "codemirror_mode": {
    "name": "ipython",
    "version": 3
   },
   "file_extension": ".py",
   "mimetype": "text/x-python",
   "name": "python",
   "nbconvert_exporter": "python",
   "pygments_lexer": "ipython3",
   "version": "3.8.16"
  }
 },
 "nbformat": 4,
 "nbformat_minor": 5
}
