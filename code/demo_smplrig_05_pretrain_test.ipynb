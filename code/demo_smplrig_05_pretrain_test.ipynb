{
 "cells": [
  {
   "cell_type": "markdown",
   "id": "a29fe503",
   "metadata": {},
   "source": [
    "# Pretrain Policy with  `MPC dataset`"
   ]
  },
  {
   "cell_type": "code",
   "execution_count": null,
   "metadata": {},
   "outputs": [],
   "source": [
    "import torch\n",
    "import mujoco\n",
    "import numpy as np\n",
    "import matplotlib.pyplot as plt\n",
    "from mujoco_parser import MuJoCoParserClass\n",
    "from util import rpy2r\n",
    "import pickle\n",
    "\n",
    "from policy import GaussianPolicy\n",
    "\n",
    "np.set_printoptions(precision=2,suppress=True,linewidth=100)\n",
    "plt.rc('xtick',labelsize=6); plt.rc('ytick',labelsize=6)\n",
    "%config InlineBackend.figure_format = 'retina'\n",
    "%matplotlib inline\n",
    "print (\"MuJoCo version:[%s]\"%(mujoco.__version__))\n"
   ]
  },
  {
   "cell_type": "markdown",
   "metadata": {},
   "source": [
    "### Load  `Pretrained Model`"
   ]
  },
  {
   "cell_type": "code",
   "execution_count": null,
   "metadata": {},
   "outputs": [],
   "source": [
    "checkpoint = torch.load(\"pretrained2.pth\",map_location=torch.device('cpu'))\n",
    "obs_dim = 99\n",
    "action_dim = 26\n",
    "hidden_dim = 512\n",
    "policy = GaussianPolicy(\n",
    "    input_dim=obs_dim,\n",
    "    output_dim=action_dim,\n",
    "    hidden_dim=hidden_dim,\n",
    "    is_deterministic=False,)\n",
    "policy.load_state_dict(checkpoint)"
   ]
  },
  {
   "cell_type": "code",
   "execution_count": null,
   "metadata": {},
   "outputs": [],
   "source": [
    "policy"
   ]
  },
  {
   "cell_type": "code",
   "execution_count": null,
   "metadata": {},
   "outputs": [],
   "source": [
    "with open(file='../data/dataset.pkl', mode='rb') as f:\n",
    "    dataset = pickle.load(f)\n",
    "\n",
    "action_batch = torch.Tensor(dataset['action'])\n",
    "qpos_batch = torch.Tensor(dataset['qpos'])[:,2:]\n",
    "qvel_batch = torch.Tensor(dataset['qvel'])\n",
    "obs_batch = torch.cat((qpos_batch, qvel_batch), dim=1)\n",
    "\n",
    "print(\"action : \", action_batch.shape)\n",
    "print(\"qpos : \", qpos_batch.shape)\n",
    "print(\"qvel : \", qvel_batch.shape)\n",
    "\n",
    "obs_dim = obs_batch.shape[1]\n",
    "action_dim = action_batch.shape[1]\n",
    "hidden_dim = 512\n",
    "\n",
    "del dataset"
   ]
  },
  {
   "cell_type": "code",
   "execution_count": null,
   "metadata": {},
   "outputs": [],
   "source": [
    "diff = action_batch - policy(obs_batch)[0]"
   ]
  },
  {
   "cell_type": "code",
   "execution_count": null,
   "metadata": {},
   "outputs": [],
   "source": [
    "idx = 0\n",
    "mse=torch.nn.MSELoss()\n",
    "# torch.sqrt(torch.mean(torch.square(diff),dim=1)).shape\n",
    "torch.mean(torch.sqrt(torch.square(diff)),dim=1)"
   ]
  },
  {
   "cell_type": "code",
   "execution_count": null,
   "metadata": {},
   "outputs": [],
   "source": []
  },
  {
   "cell_type": "code",
   "execution_count": null,
   "metadata": {},
   "outputs": [],
   "source": [
    "xml_path = '../asset/smpl_rig/smpl_rig_rilab_mpc.xml'\n",
    "env = MuJoCoParserClass(name='smplrig',rel_xml_path=xml_path,VERBOSE=True)\n",
    "# Modify the color of body exluding 'world'\n",
    "for body_name in env.body_names:\n",
    "    if body_name in ['world']: continue\n",
    "    body_idx = env.body_names.index(body_name)\n",
    "    geom_idxs = [idx for idx,val in enumerate(env.model.geom_bodyid) if val==body_idx]\n",
    "    for geom_idx in geom_idxs:\n",
    "        env.model.geom(geom_idx).rgba = [0.3,0.3,0.5,0.5]\n",
    "print (\"Done.\")"
   ]
  },
  {
   "cell_type": "code",
   "execution_count": null,
   "metadata": {},
   "outputs": [],
   "source": [
    "# Set which joints to control\n",
    "ctrl_joint_names = env.ctrl_names # <==\n",
    "joint_idxs_fwd = env.get_idxs_fwd(joint_names=ctrl_joint_names)\n",
    "joint_idxs_jac = env.get_idxs_jac(joint_names=ctrl_joint_names)\n",
    "q_ctrl_init = env.get_qpos_joints(ctrl_joint_names)\n",
    "n_ctrl_joint = len(ctrl_joint_names)\n",
    "\n",
    "# import pandas as pd\n",
    "# pkl_path = '../data/F01A0V1.pkl'\n",
    "# pd.read_pickle(pkl_path)\n",
    "\n",
    "import pickle\n",
    "pkl_path = '../data/M02F4V1.pkl'\n",
    "with open(pkl_path,'rb') as f:\n",
    "    data = pickle.load(f)\n",
    "\n",
    "print(data['length'])\n",
    "print(data['root'].shape)\n",
    "print(data['qpos'].shape)"
   ]
  },
  {
   "cell_type": "code",
   "execution_count": null,
   "metadata": {},
   "outputs": [],
   "source": [
    "L = data['length']\n",
    "\n",
    "# Initialize MuJoCo viewer\n",
    "env.init_viewer(viewer_title='SMPL',viewer_width=1200,viewer_height=800,\n",
    "                viewer_hide_menus=True)\n",
    "env.update_viewer(azimuth=152,distance=3.0,elevation=-20,lookat=[0.02,-0.03,1.2])\n",
    "env.reset()\n",
    "tick = 0\n",
    "q = data['qpos'][tick,:]\n",
    "p_root = data['root'][tick,:]\n",
    "# tick = min(tick+1,L-1)\n",
    "# if tick==(L-1): tick = 0\n",
    "# else: tick = tick + 1\n",
    "env.set_p_root(root_name='base',p=p_root)\n",
    "env.forward(q=q,INCREASE_TICK=True)\n",
    "policy.eval()\n",
    "\n",
    "while env.is_viewer_alive():\n",
    "    qpos = env.data.qpos\n",
    "    qvel = env.data.qvel\n",
    "    state = np.concatenate((qpos, qvel))\n",
    "    state = torch.Tensor(state)\n",
    "    action, _ = policy(state)\n",
    "    \n",
    "    env.step(action.detach().numpy())\n",
    "    if env.loop_every(tick_every=1):\n",
    "        # Plot world frame\n",
    "        env.plot_T(p=np.zeros(3),R=np.eye(3,3),\n",
    "                   PLOT_AXIS=True,axis_len=0.5,axis_width=0.005)\n",
    "        env.plot_T(p=np.array([0,0,0.5]),R=np.eye(3,3),\n",
    "                   PLOT_AXIS=False,label=\"tick:[%d]\"%(tick))\n",
    "        # Plot foot\n",
    "        # env.plot_geom_T(geom_name='rfoot',axis_len=0.3)\n",
    "        # env.plot_geom_T(geom_name='lfoot',axis_len=0.3)\n",
    "        # Plot revolute joints with arrow\n",
    "        # env.plot_joint_axis(axis_len=0.1,axis_r=0.01)    \n",
    "        env.render()\n",
    "# Close MuJoCo viewer\n",
    "env.close_viewer()\n",
    "print (\"Done.\")"
   ]
  }
 ],
 "metadata": {
  "kernelspec": {
   "display_name": "Python 3 (ipykernel)",
   "language": "python",
   "name": "python3"
  },
  "language_info": {
   "codemirror_mode": {
    "name": "ipython",
    "version": 3
   },
   "file_extension": ".py",
   "mimetype": "text/x-python",
   "name": "python",
   "nbconvert_exporter": "python",
   "pygments_lexer": "ipython3",
   "version": "3.8.16"
  }
 },
 "nbformat": 4,
 "nbformat_minor": 5
}
