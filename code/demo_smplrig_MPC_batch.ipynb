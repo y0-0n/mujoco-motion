{
 "cells": [
  {
   "cell_type": "markdown",
   "id": "a29fe503",
   "metadata": {},
   "source": [
    "# Playback with  `MPC dataset` and `Ground Truth`"
   ]
  },
  {
   "cell_type": "code",
   "execution_count": 1,
   "id": "61519755",
   "metadata": {},
   "outputs": [
    {
     "name": "stderr",
     "output_type": "stream",
     "text": [
      "/Users/yoonbyung/opt/anaconda3/envs/snapbot/lib/python3.8/site-packages/tqdm/auto.py:21: TqdmWarning: IProgress not found. Please update jupyter and ipywidgets. See https://ipywidgets.readthedocs.io/en/stable/user_install.html\n",
      "  from .autonotebook import tqdm as notebook_tqdm\n"
     ]
    },
    {
     "name": "stdout",
     "output_type": "stream",
     "text": [
      "MuJoCo version:[2.3.7]\n"
     ]
    }
   ],
   "source": [
    "import torch\n",
    "import mujoco\n",
    "import numpy as np\n",
    "import matplotlib.pyplot as plt\n",
    "from mujoco_parser import MuJoCoParserClass\n",
    "from util import rpy2r, r2quat, r2rpy, quat2r\n",
    "import pickle\n",
    "import mediapy as media\n",
    "from util import rpy2r,MultiSliderClass,create_folder_if_not_exists,slerp\n",
    "import cv2,glob,os\n",
    "\n",
    "from policy import GaussianPolicy\n",
    "\n",
    "np.set_printoptions(precision=2,suppress=True,linewidth=100)\n",
    "plt.rc('xtick',labelsize=6); plt.rc('ytick',labelsize=6)\n",
    "%config InlineBackend.figure_format = 'retina'\n",
    "# %matplotlib inline\n",
    "print (\"MuJoCo version:[%s]\"%(mujoco.__version__))"
   ]
  },
  {
   "cell_type": "markdown",
   "id": "cdecc08c",
   "metadata": {},
   "source": [
    "### Load `MPC dataset`"
   ]
  },
  {
   "cell_type": "code",
   "execution_count": 12,
   "id": "4d9313b7",
   "metadata": {},
   "outputs": [
    {
     "name": "stdout",
     "output_type": "stream",
     "text": [
      "obs :  (460, 44)\n",
      "action :  (460, 37)\n"
     ]
    }
   ],
   "source": [
    "with open(file='../data/smpl walk foot heuristic.pkl', mode='rb') as f:\n",
    "    dataset = pickle.load(f)\n",
    "\n",
    "horizon = 460\n",
    "\n",
    "action_batch = np.array(dataset['action'])\n",
    "qpos_batch = np.array(dataset['qpos'])\n",
    "qvel_batch = np.array(dataset['qvel'])\n",
    "\n",
    "action_batch = action_batch.reshape(action_batch.shape[0] * horizon, -1)\n",
    "qpos_batch = qpos_batch.reshape(qpos_batch.shape[0] * horizon, -1)\n",
    "qvel_batch = qvel_batch.reshape(qvel_batch.shape[0] * horizon, -1)\n",
    "\n",
    "qpos_batch = qpos_batch[:, :]\n",
    "# qpos_batch = torch.cat((qpos_batch[:-2, :],qpos_batch[1:-1, :],qpos_batch[2:, :]),dim=1)\n",
    "# qvel_batch = torch.cat((qvel_batch[:-2, :],qvel_batch[1:-1, :],qvel_batch[2:, :]),dim=1)\n",
    "\n",
    "# obs_batch = np.concatenate((qpos_batch, qvel_batch), axis=1)\n",
    "\n",
    "dataset = {\n",
    "    \"ctrl\": action_batch,\n",
    "    \"qpos\": qpos_batch,\n",
    "    \"qvel\": qvel_batch\n",
    "}\n",
    "\n",
    "# action_batch = action_batch[2:]\n",
    "# obs_dim = obs_batch.shape[1]\n",
    "action_dim = action_batch.shape[1]\n",
    "hidden_dim = 512\n",
    "\n",
    "print(\"obs : \", qpos_batch.shape)\n",
    "print(\"action : \", action_batch.shape)\n"
   ]
  },
  {
   "cell_type": "code",
   "execution_count": 13,
   "id": "aa6bc48a",
   "metadata": {},
   "outputs": [
    {
     "name": "stdout",
     "output_type": "stream",
     "text": [
      "dt:[0.0020] HZ:[500]\n",
      "n_dof (=nv):[43]\n",
      "n_geom:[67]\n",
      "geom_names:['floor', 'base', 'base2lpelvis', 'base2rpelvis', 'base2spine1', 'spine2spine', 'spine2spine2', 'spine2spine3', 'spine2lcollar', 'spine2rcollar', 'neck2head', 'head', 'nose', 'lcollar2lshoulder', 'lshoulder2lelbow', 'lelbow2lwrist', 'lwrist2lindex1', 'lwrist2lmiddle1', 'lwrist2lpinky1', 'lwrist2lring1', 'lwrist2lthumb1', 'lindex1-lindex2', 'lindex2-lindex3', 'lindex3-lindextip', 'lmiddle1-lmiddle2', 'lmiddle2-lmiddle3', 'lmiddl3-lmiddletip', 'lring1-lring2', 'lring2-lring3', 'lring3-lringtip', 'lpinky1-lpinky2', 'lpinky2-lpinky3', 'lpinky3-lpinkytip', 'lthumb1-lthumb2', 'lthumb2-lthumb3', 'lthumb3-lthumbtip', 'rcollar2rshoulder', 'rshoulder2relbow', 'relbow2rwrist', 'rwrist2rindex1', 'rwrist2rmiddle1', 'rwrist2rpinky1', 'rwrist2rring1', 'rwrist2rthumb1', 'rindex1-rindex2', 'rindex2-rindex3', 'rindex3-rindextip', 'rmiddle1-rmiddle2', 'rmiddle2-rmiddle3', 'rmiddle3-rmiddletip', 'rring1-rring2', 'rring2-rring3', 'rring3-rringtip', 'rpinky1-rpinky2', 'rpinky2-rpinky3', 'rpinky3-rpinkytip', 'rthumb1-rthumb2', 'rthumb2-rthumb3', 'rthumb3-rthumbtip', 'lpelvis2lknee', 'lknee2lankle', 'foot1_left', 'foot2_left', 'rpelvis2rknee', 'rknee2rankle', 'foot1_right', 'foot2_right']\n",
      "n_body:[62]\n",
      "body_names:['world', 'base', 'root', 'spine1', 'spine2', 'spine3', 'neck', 'head', 'left_collar', 'left_shoulder', 'left_elbow', 'left_wrist', 'left_index1', 'left_index2', 'left_index3', 'left_index4', 'left_middle1', 'left_middle2', 'left_middle3', 'left_middle4', 'left_ring1', 'left_ring2', 'left_ring3', 'left_ring4', 'left_pinky1', 'left_pinky2', 'left_pinky3', 'left_pinky4', 'left_thumb1', 'left_thumb2', 'left_thumb3', 'left_thumb4', 'right_collar', 'right_shoulder', 'right_elbow', 'right_wrist', 'right_index1', 'right_index2', 'right_index3', 'right_index4', 'right_middle1', 'right_middle2', 'right_middle3', 'right_middle4', 'right_ring1', 'right_ring2', 'right_ring3', 'right_ring4', 'right_pinky1', 'right_pinky2', 'right_pinky3', 'right_pinky4', 'right_thumb1', 'right_thumb2', 'right_thumb3', 'right_thumb4', 'left_pelvis', 'left_knee', 'left_ankle', 'right_pelvis', 'right_knee', 'right_ankle']\n",
      "n_joint:[38]\n",
      "joint_names:['base', 'root1', 'root2', 'root3', 'spine1', 'spine2', 'spine3', 'head1', 'head2', 'head3', 'l_shoulder1', 'l_shoulder2', 'l_shoulder3', 'l_elbow', 'l_wrist1', 'l_wrist2', 'l_wrist3', 'r_shoulder1', 'r_shoulder2', 'r_shoulder3', 'r_elbow', 'r_wrist1', 'r_wrist2', 'r_wrist3', 'l_pelvis1', 'l_pelvis2', 'l_pelvis3', 'l_knee', 'l_ankle1', 'l_ankle2', 'l_ankle3', 'r_pelvis1', 'r_pelvis2', 'r_pelvis3', 'r_knee', 'r_ankle1', 'r_ankle2', 'r_ankle3']\n",
      "joint_types:[0 3 3 3 3 3 3 3 3 3 3 3 3 3 3 3 3 3 3 3 3 3 3 3 3 3 3 3 3 3 3 3 3 3 3 3 3 3]\n",
      "joint_ranges:\n",
      "[[ 0.    0.  ]\n",
      " [-1.5   1.5 ]\n",
      " [-1.5   1.5 ]\n",
      " [-1.5   1.5 ]\n",
      " [-1.5   1.5 ]\n",
      " [-1.5   1.5 ]\n",
      " [-1.5   1.5 ]\n",
      " [-1.57  1.57]\n",
      " [-1.57  1.57]\n",
      " [-1.57  1.57]\n",
      " [-3.14  3.14]\n",
      " [-3.14  3.14]\n",
      " [-3.14  3.14]\n",
      " [-2.62 -0.01]\n",
      " [-3.14  3.14]\n",
      " [-3.14  3.14]\n",
      " [-3.14  3.14]\n",
      " [-3.14  3.14]\n",
      " [-3.14  3.14]\n",
      " [-3.14  3.14]\n",
      " [ 0.01  2.62]\n",
      " [-3.14  3.14]\n",
      " [-3.14  3.14]\n",
      " [-3.14  3.14]\n",
      " [-0.3   0.3 ]\n",
      " [-1.5   0.3 ]\n",
      " [-0.5   0.3 ]\n",
      " [ 0.02  2.09]\n",
      " [-0.3   0.3 ]\n",
      " [-0.3   0.3 ]\n",
      " [-0.3   0.3 ]\n",
      " [-0.3   0.3 ]\n",
      " [-1.5   0.3 ]\n",
      " [-0.5   0.3 ]\n",
      " [ 0.02  2.09]\n",
      " [-0.3   0.3 ]\n",
      " [-0.3   0.3 ]\n",
      " [-0.3   0.3 ]]\n",
      "n_rev_joint:[37]\n",
      "rev_joint_idxs:[ 1  2  3  4  5  6  7  8  9 10 11 12 13 14 15 16 17 18 19 20 21 22 23 24 25 26 27 28 29 30 31 32 33\n",
      " 34 35 36 37]\n",
      "rev_joint_names:['root1', 'root2', 'root3', 'spine1', 'spine2', 'spine3', 'head1', 'head2', 'head3', 'l_shoulder1', 'l_shoulder2', 'l_shoulder3', 'l_elbow', 'l_wrist1', 'l_wrist2', 'l_wrist3', 'r_shoulder1', 'r_shoulder2', 'r_shoulder3', 'r_elbow', 'r_wrist1', 'r_wrist2', 'r_wrist3', 'l_pelvis1', 'l_pelvis2', 'l_pelvis3', 'l_knee', 'l_ankle1', 'l_ankle2', 'l_ankle3', 'r_pelvis1', 'r_pelvis2', 'r_pelvis3', 'r_knee', 'r_ankle1', 'r_ankle2', 'r_ankle3']\n",
      "rev_joint_mins:[-1.5  -1.5  -1.5  -1.5  -1.5  -1.5  -1.57 -1.57 -1.57 -3.14 -3.14 -3.14 -2.62 -3.14 -3.14 -3.14\n",
      " -3.14 -3.14 -3.14  0.01 -3.14 -3.14 -3.14 -0.3  -1.5  -0.5   0.02 -0.3  -0.3  -0.3  -0.3  -1.5\n",
      " -0.5   0.02 -0.3  -0.3  -0.3 ]\n",
      "rev_joint_maxs:[ 1.5   1.5   1.5   1.5   1.5   1.5   1.57  1.57  1.57  3.14  3.14  3.14 -0.01  3.14  3.14  3.14\n",
      "  3.14  3.14  3.14  2.62  3.14  3.14  3.14  0.3   0.3   0.3   2.09  0.3   0.3   0.3   0.3   0.3\n",
      "  0.3   2.09  0.3   0.3   0.3 ]\n",
      "rev_joint_ranges:[3.   3.   3.   3.   3.   3.   3.14 3.14 3.14 6.28 6.28 6.28 2.61 6.28 6.28 6.28 6.28 6.28 6.28\n",
      " 2.61 6.28 6.28 6.28 0.6  1.8  0.8  2.08 0.6  0.6  0.6  0.6  1.8  0.8  2.08 0.6  0.6  0.6 ]\n",
      "n_pri_joint:[0]\n",
      "pri_joint_idxs:[]\n",
      "pri_joint_names:[]\n",
      "pri_joint_mins:[]\n",
      "pri_joint_maxs:[]\n",
      "pri_joint_ranges:[]\n",
      "n_ctrl:[37]\n",
      "ctrl_names:['root1', 'root2', 'root3', 'spine1', 'spine2', 'spine3', 'head1', 'head2', 'head3', 'l_shoulder1', 'l_shoulder2', 'l_shoulder3', 'l_elbow', 'l_wrist1', 'l_wrist2', 'l_wrist3', 'r_shoulder1', 'r_shoulder2', 'r_shoulder3', 'r_elbow', 'r_wrist1', 'r_wrist2', 'r_wrist3', 'l_pelvis1', 'l_pelvis2', 'l_pelvis3', 'l_knee', 'l_ankle1', 'l_ankle2', 'l_ankle3', 'r_pelvis1', 'r_pelvis2', 'r_pelvis3', 'r_knee', 'r_ankle1', 'r_ankle2', 'r_ankle3']\n",
      "ctrl_joint_idxs:[7, 8, 9, 10, 11, 12, 13, 14, 15, 16, 17, 18, 19, 20, 21, 22, 23, 24, 25, 26, 27, 28, 29, 30, 31, 32, 33, 34, 35, 36, 37, 38, 39, 40, 41, 42, 43]\n",
      "ctrl_joint_names:['root1', 'root2', 'root3', 'spine1', 'spine2', 'spine3', 'head1', 'head2', 'head3', 'l_shoulder1', 'l_shoulder2', 'l_shoulder3', 'l_elbow', 'l_wrist1', 'l_wrist2', 'l_wrist3', 'r_shoulder1', 'r_shoulder2', 'r_shoulder3', 'r_elbow', 'r_wrist1', 'r_wrist2', 'r_wrist3', 'l_pelvis1', 'l_pelvis2', 'l_pelvis3', 'l_knee', 'l_ankle1', 'l_ankle2', 'l_ankle3', 'r_pelvis1', 'r_pelvis2', 'r_pelvis3', 'r_knee', 'r_ankle1', 'r_ankle2', 'r_ankle3']\n",
      "ctrl_qvel_idxs:[6, 7, 8, 9, 10, 11, 12, 13, 14, 15, 16, 17, 18, 19, 20, 21, 22, 23, 24, 25, 26, 27, 28, 29, 30, 31, 32, 33, 34, 35, 36, 37, 38, 39, 40, 41, 42]\n",
      "ctrl_ranges:\n",
      "[[-1.  1.]\n",
      " [-1.  1.]\n",
      " [-1.  1.]\n",
      " [-1.  1.]\n",
      " [-1.  1.]\n",
      " [-1.  1.]\n",
      " [-1.  1.]\n",
      " [-1.  1.]\n",
      " [-1.  1.]\n",
      " [-1.  1.]\n",
      " [-1.  1.]\n",
      " [-1.  1.]\n",
      " [-1.  1.]\n",
      " [-1.  1.]\n",
      " [-1.  1.]\n",
      " [-1.  1.]\n",
      " [-1.  1.]\n",
      " [-1.  1.]\n",
      " [-1.  1.]\n",
      " [-1.  1.]\n",
      " [-1.  1.]\n",
      " [-1.  1.]\n",
      " [-1.  1.]\n",
      " [-1.  1.]\n",
      " [-1.  1.]\n",
      " [-1.  1.]\n",
      " [-1.  1.]\n",
      " [-1.  1.]\n",
      " [-1.  1.]\n",
      " [-1.  1.]\n",
      " [-1.  1.]\n",
      " [-1.  1.]\n",
      " [-1.  1.]\n",
      " [-1.  1.]\n",
      " [-1.  1.]\n",
      " [-1.  1.]\n",
      " [-1.  1.]]\n",
      "n_sensor:[0]\n",
      "sensor_names:[]\n",
      "n_site:[20]\n",
      "site_names:['tracking[pelvis]', 'pelvis_site', 'base2spine1', 'spine2spine2', 'spine2spine3', 'head', 'tracking[lhand]', 'tracking[rhand]', 'lpelvis2lknee', 'lknee2lankle', 'lankle', 'foot_left', 'sp0', 'sp1', 'rpelvis2rknee', 'rknee2rankle', 'rankle', 'foot_right', 'sp2', 'sp3']\n",
      "Done.\n"
     ]
    }
   ],
   "source": [
    "xml_path = '../asset/smpl_rig/scene_smpl_rig.xml'\n",
    "env = MuJoCoParserClass(name='smplrig',rel_xml_path=xml_path,VERBOSE=True)\n",
    "# Modify the color of body exluding 'world'\n",
    "for body_name in env.body_names:\n",
    "    if body_name in ['world']: continue\n",
    "    body_idx = env.body_names.index(body_name)\n",
    "    geom_idxs = [idx for idx,val in enumerate(env.model.geom_bodyid) if val==body_idx]\n",
    "    for geom_idx in geom_idxs:\n",
    "        env.model.geom(geom_idx).rgba = [0.3,0.3,0.5,0.5]\n",
    "print (\"Done.\")"
   ]
  },
  {
   "cell_type": "code",
   "execution_count": 14,
   "id": "d6e00205",
   "metadata": {},
   "outputs": [],
   "source": [
    "# Set which joints to control\n",
    "ctrl_joint_names = env.ctrl_joint_names # <==\n",
    "joint_idxs_fwd = env.get_idxs_fwd(joint_names=ctrl_joint_names)\n",
    "joint_idxs_jac = env.get_idxs_jac(joint_names=ctrl_joint_names)\n",
    "q_ctrl_init = env.get_qpos_joints(ctrl_joint_names)\n",
    "n_ctrl_joint = len(ctrl_joint_names)"
   ]
  },
  {
   "cell_type": "code",
   "execution_count": 15,
   "id": "7ed67fa8",
   "metadata": {},
   "outputs": [
    {
     "name": "stdout",
     "output_type": "stream",
     "text": [
      "PLOT_EVERY:[4] \n"
     ]
    }
   ],
   "source": [
    "PLOT_EVERY  = 4\n",
    "print (\"PLOT_EVERY:[%d] \"%(PLOT_EVERY))"
   ]
  },
  {
   "cell_type": "markdown",
   "id": "7427fad9",
   "metadata": {},
   "source": [
    "### Playback and Reconstruct Observation"
   ]
  },
  {
   "cell_type": "code",
   "execution_count": 16,
   "id": "6b81f77f",
   "metadata": {},
   "outputs": [
    {
     "name": "stderr",
     "output_type": "stream",
     "text": [
      "2024-02-26 01:52:31.774 python[72597:15766287] TSM AdjustCapsLockLEDForKeyTransitionHandling - _ISSetPhysicalKeyboardCapsLockLED Inhibit\n"
     ]
    },
    {
     "name": "stdout",
     "output_type": "stream",
     "text": [
      "Pressed ESC\n",
      "Quitting.\n"
     ]
    },
    {
     "ename": "Exception",
     "evalue": "GLFW window does not exist but you tried to render.",
     "output_type": "error",
     "traceback": [
      "\u001b[0;31m---------------------------------------------------------------------------\u001b[0m",
      "\u001b[0;31mException\u001b[0m                                 Traceback (most recent call last)",
      "Cell \u001b[0;32mIn[16], line 31\u001b[0m\n\u001b[1;32m     28\u001b[0m \u001b[38;5;28;01mfor\u001b[39;00m p_GT \u001b[38;5;129;01min\u001b[39;00m GT_xpos[env\u001b[38;5;241m.\u001b[39mtick\u001b[38;5;241m+\u001b[39mtick_inc]:\n\u001b[1;32m     29\u001b[0m     env\u001b[38;5;241m.\u001b[39mplot_sphere(p\u001b[38;5;241m=\u001b[39mp_GT,r\u001b[38;5;241m=\u001b[39m\u001b[38;5;241m0.02\u001b[39m,rgba\u001b[38;5;241m=\u001b[39m[\u001b[38;5;241m1\u001b[39m,\u001b[38;5;241m0.2\u001b[39m,\u001b[38;5;241m0.2\u001b[39m,\u001b[38;5;241m1\u001b[39m])\n\u001b[0;32m---> 31\u001b[0m \u001b[43menv\u001b[49m\u001b[38;5;241;43m.\u001b[39;49m\u001b[43mrender\u001b[49m\u001b[43m(\u001b[49m\u001b[43m)\u001b[49m\n\u001b[1;32m     33\u001b[0m \u001b[38;5;28;01mif\u001b[39;00m env\u001b[38;5;241m.\u001b[39mtick \u001b[38;5;241m>\u001b[39m \u001b[38;5;241m0\u001b[39m \u001b[38;5;129;01mand\u001b[39;00m env\u001b[38;5;241m.\u001b[39mtick \u001b[38;5;241m%\u001b[39m \u001b[38;5;241m1000\u001b[39m \u001b[38;5;241m==\u001b[39m \u001b[38;5;241m0\u001b[39m:\n\u001b[1;32m     34\u001b[0m     env\u001b[38;5;241m.\u001b[39mtick \u001b[38;5;241m+\u001b[39m\u001b[38;5;241m=\u001b[39m \u001b[38;5;241m1\u001b[39m\n",
      "File \u001b[0;32m~/Dev/mujoco-motion/code/mujoco_parser.py:292\u001b[0m, in \u001b[0;36mMuJoCoParserClass.render\u001b[0;34m(self, render_every)\u001b[0m\n\u001b[1;32m    290\u001b[0m \u001b[38;5;28;01mif\u001b[39;00m \u001b[38;5;28mself\u001b[39m\u001b[38;5;241m.\u001b[39mUSE_MUJOCO_VIEWER:\n\u001b[1;32m    291\u001b[0m     \u001b[38;5;28;01mif\u001b[39;00m ((\u001b[38;5;28mself\u001b[39m\u001b[38;5;241m.\u001b[39mrender_tick \u001b[38;5;241m%\u001b[39m render_every) \u001b[38;5;241m==\u001b[39m \u001b[38;5;241m0\u001b[39m) \u001b[38;5;129;01mor\u001b[39;00m (\u001b[38;5;28mself\u001b[39m\u001b[38;5;241m.\u001b[39mrender_tick \u001b[38;5;241m==\u001b[39m \u001b[38;5;241m0\u001b[39m):\n\u001b[0;32m--> 292\u001b[0m         \u001b[38;5;28;43mself\u001b[39;49m\u001b[38;5;241;43m.\u001b[39;49m\u001b[43mviewer\u001b[49m\u001b[38;5;241;43m.\u001b[39;49m\u001b[43mrender\u001b[49m\u001b[43m(\u001b[49m\u001b[43m)\u001b[49m\n\u001b[1;32m    293\u001b[0m     \u001b[38;5;28mself\u001b[39m\u001b[38;5;241m.\u001b[39mrender_tick \u001b[38;5;241m=\u001b[39m \u001b[38;5;28mself\u001b[39m\u001b[38;5;241m.\u001b[39mrender_tick \u001b[38;5;241m+\u001b[39m \u001b[38;5;241m1\u001b[39m\n\u001b[1;32m    294\u001b[0m \u001b[38;5;28;01melse\u001b[39;00m:\n",
      "File \u001b[0;32m~/opt/anaconda3/envs/snapbot/lib/python3.8/site-packages/mujoco_viewer/mujoco_viewer.py:376\u001b[0m, in \u001b[0;36mMujocoViewer.render\u001b[0;34m(self)\u001b[0m\n\u001b[1;32m    373\u001b[0m     \u001b[38;5;28;01mraise\u001b[39;00m \u001b[38;5;167;01mNotImplementedError\u001b[39;00m(\n\u001b[1;32m    374\u001b[0m         \u001b[38;5;124m\"\u001b[39m\u001b[38;5;124mUse \u001b[39m\u001b[38;5;124m'\u001b[39m\u001b[38;5;124mread_pixels()\u001b[39m\u001b[38;5;124m'\u001b[39m\u001b[38;5;124m for \u001b[39m\u001b[38;5;124m'\u001b[39m\u001b[38;5;124moffscreen\u001b[39m\u001b[38;5;124m'\u001b[39m\u001b[38;5;124m mode.\u001b[39m\u001b[38;5;124m\"\u001b[39m)\n\u001b[1;32m    375\u001b[0m \u001b[38;5;28;01mif\u001b[39;00m \u001b[38;5;129;01mnot\u001b[39;00m \u001b[38;5;28mself\u001b[39m\u001b[38;5;241m.\u001b[39mis_alive:\n\u001b[0;32m--> 376\u001b[0m     \u001b[38;5;28;01mraise\u001b[39;00m \u001b[38;5;167;01mException\u001b[39;00m(\n\u001b[1;32m    377\u001b[0m         \u001b[38;5;124m\"\u001b[39m\u001b[38;5;124mGLFW window does not exist but you tried to render.\u001b[39m\u001b[38;5;124m\"\u001b[39m)\n\u001b[1;32m    378\u001b[0m \u001b[38;5;28;01mif\u001b[39;00m glfw\u001b[38;5;241m.\u001b[39mwindow_should_close(\u001b[38;5;28mself\u001b[39m\u001b[38;5;241m.\u001b[39mwindow):\n\u001b[1;32m    379\u001b[0m     \u001b[38;5;28mself\u001b[39m\u001b[38;5;241m.\u001b[39mclose()\n",
      "\u001b[0;31mException\u001b[0m: GLFW window does not exist but you tried to render."
     ]
    }
   ],
   "source": [
    "# Initialize MuJoCo viewer\n",
    "env.init_viewer(viewer_title='SMPL',viewer_width=1200,viewer_height=800,\n",
    "                viewer_hide_menus=False)\n",
    "env.update_viewer(azimuth=152,distance=3.0,elevation=-20,lookat=[0.02,-0.03,1.2])\n",
    "env.reset()\n",
    "\n",
    "tick = 0\n",
    "tick_inc = 0\n",
    "image_list = []\n",
    "rewards_np = np.empty(())\n",
    "xpos_batch = np.empty((qpos_batch.shape[0], env.n_body, 3))\n",
    "\n",
    "while env.tick < 460:\n",
    "    tick = env.tick+tick_inc\n",
    "    qpos = qpos_batch[env.tick+tick_inc]\n",
    "    # qpos = GT_qpos[env.tick+tick_inc]\n",
    "    env.forward(qpos)\n",
    "    reward, info = compute_reward(qpos_batch[tick], GT_qpos[tick], env.data.xpos, GT_xpos[tick], env.data.xmat.copy().reshape(-1, 3, 3), quat2r(GT_rotation[tick]), qvel_batch[tick], GT_qvel[tick])\n",
    "\n",
    "    if env.loop_every(tick_every=1):\n",
    "        # Plot world frame\n",
    "        env.plot_T(p=np.zeros(3),R=np.eye(3,3),\n",
    "                   PLOT_AXIS=True,axis_len=0.5,axis_width=0.005)\n",
    "        env.plot_T(p=np.array([0,0,0.5]),R=np.eye(3,3),\n",
    "                   PLOT_AXIS=False,label=\"tick:[%d]\\nroot position reward:[%1f]\\nquat reward:[%1f]\\nqvel:[%1f]\"%(env.tick,info[\"root_position\"],info[\"rpy\"],info[\"qvel\"]))\n",
    "\n",
    "        # plot GT xpos\n",
    "        for p_GT in GT_xpos[env.tick+tick_inc]:\n",
    "            env.plot_sphere(p=p_GT,r=0.02,rgba=[1,0.2,0.2,1])\n",
    "        \n",
    "        env.render()\n",
    "\n",
    "        if env.tick > 0 and env.tick % 1000 == 0:\n",
    "            env.tick += 1\n",
    "            \n",
    "# Close MuJoCo viewer\n",
    "env.close_viewer()\n",
    "print (\"Done.\")"
   ]
  },
  {
   "cell_type": "markdown",
   "id": "57a2e5f3",
   "metadata": {},
   "source": [
    "### Compute Reward"
   ]
  },
  {
   "cell_type": "code",
   "execution_count": 18,
   "id": "620bf7ea",
   "metadata": {},
   "outputs": [],
   "source": [
    "def finite_difference_matrix(n, dt, order):\n",
    "    \"\"\"\n",
    "    n: number of points\n",
    "    dt: time interval\n",
    "    order: (1=velocity, 2=acceleration, 3=jerk)\n",
    "    \"\"\" \n",
    "    # Order\n",
    "    if order == 1:  # velocity\n",
    "        coeffs = np.array([-1, 1])\n",
    "    elif order == 2:  # acceleration\n",
    "        coeffs = np.array([1, -2, 1])\n",
    "    elif order == 3:  # jerk\n",
    "        coeffs = np.array([-1, 3, -3, 1])\n",
    "    else:\n",
    "        raise ValueError(\"Order must be 1, 2, or 3.\")\n",
    "\n",
    "    # Fill-in matrix\n",
    "    mat = np.zeros((n, n))\n",
    "    for i in range(n - order):\n",
    "        for j, c in enumerate(coeffs):\n",
    "            mat[i, i + j] = c\n",
    "    return mat / (dt ** order)\n",
    "\n",
    "# compute_reward(GT, )"
   ]
  },
  {
   "cell_type": "code",
   "execution_count": 19,
   "id": "ebbc89c0",
   "metadata": {},
   "outputs": [
    {
     "name": "stdout",
     "output_type": "stream",
     "text": [
      "dict_keys(['length', 'root', 'qpos', 'xpos', 'rotation', 'qvel'])\n",
      "dict_keys(['ctrl', 'qpos', 'qvel', 'xpos'])\n",
      "(470, 44) (460, 44)\n"
     ]
    }
   ],
   "source": []
  },
  {
   "cell_type": "code",
   "execution_count": null,
   "id": "742cf409",
   "metadata": {},
   "outputs": [],
   "source": []
  }
 ],
 "metadata": {
  "kernelspec": {
   "display_name": "snapbot",
   "language": "python",
   "name": "python3"
  },
  "language_info": {
   "codemirror_mode": {
    "name": "ipython",
    "version": 3
   },
   "file_extension": ".py",
   "mimetype": "text/x-python",
   "name": "python",
   "nbconvert_exporter": "python",
   "pygments_lexer": "ipython3",
   "version": "3.8.16"
  }
 },
 "nbformat": 4,
 "nbformat_minor": 5
}
