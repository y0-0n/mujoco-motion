{
 "cells": [
  {
   "cell_type": "markdown",
   "id": "a29fe503",
   "metadata": {},
   "source": [
    "# Pretrain Policy with  `MPC dataset`"
   ]
  },
  {
   "cell_type": "code",
   "execution_count": 1,
   "metadata": {},
   "outputs": [
    {
     "name": "stderr",
     "output_type": "stream",
     "text": [
      "/Users/yoonbyung/opt/anaconda3/envs/snapbot/lib/python3.8/site-packages/tqdm/auto.py:21: TqdmWarning: IProgress not found. Please update jupyter and ipywidgets. See https://ipywidgets.readthedocs.io/en/stable/user_install.html\n",
      "  from .autonotebook import tqdm as notebook_tqdm\n"
     ]
    }
   ],
   "source": [
    "import numpy as np\n",
    "import pickle\n",
    "from typing import Tuple\n",
    "from mujoco_parser import MuJoCoParserClass\n",
    "\n",
    "import numpy as np\n",
    "import torch\n",
    "import torch.nn as nn\n",
    "import torch.nn.functional as F\n",
    "from torch.distributions import Normal\n",
    "import torch.optim as optim\n",
    "\n",
    "from tqdm import tqdm\n",
    "\n",
    "from torch.utils.data import DataLoader\n",
    "from torch.utils.data import Dataset\n",
    "\n",
    "from policy import GaussianPolicy"
   ]
  },
  {
   "cell_type": "markdown",
   "metadata": {},
   "source": [
    "### Load  `MPC dataset`"
   ]
  },
  {
   "cell_type": "code",
   "execution_count": 2,
   "id": "a7aeb8d7",
   "metadata": {},
   "outputs": [
    {
     "name": "stdout",
     "output_type": "stream",
     "text": [
      "obs :  torch.Size([113000, 87])\n",
      "action :  torch.Size([113000, 37])\n"
     ]
    }
   ],
   "source": [
    "with open(file='../data/stand_mpc_data.pkl', mode='rb') as f:\n",
    "    dataset = pickle.load(f)\n",
    "\n",
    "action_batch = torch.Tensor(dataset['action'][:113000])\n",
    "qpos_batch = torch.Tensor(dataset['qpos'][:113000])\n",
    "qvel_batch = torch.Tensor(dataset['qvel'][:113000])\n",
    "\n",
    "# print(\"qpos : \", qpos_batch.shape)\n",
    "# print(\"qvel : \", qvel_batch.shape)\n",
    "\n",
    "del dataset\n",
    "\n",
    "# qpos_batch = qpos_batch[:, 2:]\n",
    "# qpos_batch = torch.cat((qpos_batch[:-2, :],qpos_batch[1:-1, :],qpos_batch[2:, :]),dim=1)\n",
    "# qvel_batch = torch.cat((qvel_batch[:-2, :],qvel_batch[1:-1, :],qvel_batch[2:, :]),dim=1)\n",
    "\n",
    "obs_batch = torch.cat((qpos_batch, qvel_batch), dim=1)\n",
    "\n",
    "# action_batch = action_batch[2:]\n",
    "obs_dim = obs_batch.shape[1]\n",
    "action_dim = action_batch.shape[1]\n",
    "hidden_dim = 512\n",
    "\n",
    "print(\"obs : \", obs_batch.shape)\n",
    "print(\"action : \", action_batch.shape)\n"
   ]
  },
  {
   "cell_type": "code",
   "execution_count": 3,
   "id": "27aba44d",
   "metadata": {},
   "outputs": [
    {
     "name": "stdout",
     "output_type": "stream",
     "text": [
      "dt:[0.0020] HZ:[500]\n",
      "n_dof (=nv):[43]\n",
      "n_geom:[67]\n",
      "geom_names:['floor', 'base', 'base2lpelvis', 'base2rpelvis', 'base2spine1', 'spine2spine', 'spine2spine2', 'spine2spine3', 'spine2lcollar', 'spine2rcollar', 'neck2head', 'head', 'nose', 'lcollar2lshoulder', 'lshoulder2lelbow', 'lelbow2lwrist', 'lwrist2lindex1', 'lwrist2lmiddle1', 'lwrist2lpinky1', 'lwrist2lring1', 'lwrist2lthumb1', 'lindex1-lindex2', 'lindex2-lindex3', 'lindex3-lindextip', 'lmiddle1-lmiddle2', 'lmiddle2-lmiddle3', 'lmiddl3-lmiddletip', 'lring1-lring2', 'lring2-lring3', 'lring3-lringtip', 'lpinky1-lpinky2', 'lpinky2-lpinky3', 'lpinky3-lpinkytip', 'lthumb1-lthumb2', 'lthumb2-lthumb3', 'lthumb3-lthumbtip', 'rcollar2rshoulder', 'rshoulder2relbow', 'relbow2rwrist', 'rwrist2rindex1', 'rwrist2rmiddle1', 'rwrist2rpinky1', 'rwrist2rring1', 'rwrist2rthumb1', 'rindex1-rindex2', 'rindex2-rindex3', 'rindex3-rindextip', 'rmiddle1-rmiddle2', 'rmiddle2-rmiddle3', 'rmiddle3-rmiddletip', 'rring1-rring2', 'rring2-rring3', 'rring3-rringtip', 'rpinky1-rpinky2', 'rpinky2-rpinky3', 'rpinky3-rpinkytip', 'rthumb1-rthumb2', 'rthumb2-rthumb3', 'rthumb3-rthumbtip', 'lpelvis2lknee', 'lknee2lankle', 'foot1_left', 'foot2_left', 'rpelvis2rknee', 'rknee2rankle', 'foot1_right', 'foot2_right']\n",
      "n_body:[62]\n",
      "body_names:['world', 'base', 'root', 'spine1', 'spine2', 'spine3', 'neck', 'head', 'left_collar', 'left_shoulder', 'left_elbow', 'left_wrist', 'left_index1', 'left_index2', 'left_index3', 'left_index4', 'left_middle1', 'left_middle2', 'left_middle3', 'left_middle4', 'left_ring1', 'left_ring2', 'left_ring3', 'left_ring4', 'left_pinky1', 'left_pinky2', 'left_pinky3', 'left_pinky4', 'left_thumb1', 'left_thumb2', 'left_thumb3', 'left_thumb4', 'right_collar', 'right_shoulder', 'right_elbow', 'right_wrist', 'right_index1', 'right_index2', 'right_index3', 'right_index4', 'right_middle1', 'right_middle2', 'right_middle3', 'right_middle4', 'right_ring1', 'right_ring2', 'right_ring3', 'right_ring4', 'right_pinky1', 'right_pinky2', 'right_pinky3', 'right_pinky4', 'right_thumb1', 'right_thumb2', 'right_thumb3', 'right_thumb4', 'left_pelvis', 'left_knee', 'left_ankle', 'right_pelvis', 'right_knee', 'right_ankle']\n",
      "n_joint:[38]\n",
      "joint_names:['base', 'root1', 'root2', 'root3', 'spine1', 'spine2', 'spine3', 'head1', 'head2', 'head3', 'l_shoulder1', 'l_shoulder2', 'l_shoulder3', 'l_elbow', 'l_wrist1', 'l_wrist2', 'l_wrist3', 'r_shoulder1', 'r_shoulder2', 'r_shoulder3', 'r_elbow', 'r_wrist1', 'r_wrist2', 'r_wrist3', 'l_pelvis1', 'l_pelvis2', 'l_pelvis3', 'l_knee', 'l_ankle1', 'l_ankle2', 'l_ankle3', 'r_pelvis1', 'r_pelvis2', 'r_pelvis3', 'r_knee', 'r_ankle1', 'r_ankle2', 'r_ankle3']\n",
      "joint_types:[0 3 3 3 3 3 3 3 3 3 3 3 3 3 3 3 3 3 3 3 3 3 3 3 3 3 3 3 3 3 3 3 3 3 3 3 3\n",
      " 3]\n",
      "joint_ranges:\n",
      "[[ 0.          0.        ]\n",
      " [-1.5         1.5       ]\n",
      " [-1.5         1.5       ]\n",
      " [-1.5         1.5       ]\n",
      " [-1.5         1.5       ]\n",
      " [-1.5         1.5       ]\n",
      " [-1.5         1.5       ]\n",
      " [-1.57        1.57      ]\n",
      " [-1.57        1.57      ]\n",
      " [-1.57        1.57      ]\n",
      " [-3.141592    3.141592  ]\n",
      " [-3.141592    3.141592  ]\n",
      " [-3.141592    3.141592  ]\n",
      " [-2.61666667 -0.01      ]\n",
      " [-3.141592    3.141592  ]\n",
      " [-3.141592    3.141592  ]\n",
      " [-3.141592    3.141592  ]\n",
      " [-3.141592    3.141592  ]\n",
      " [-3.141592    3.141592  ]\n",
      " [-3.141592    3.141592  ]\n",
      " [ 0.01        2.61666667]\n",
      " [-3.141592    3.141592  ]\n",
      " [-3.141592    3.141592  ]\n",
      " [-3.141592    3.141592  ]\n",
      " [-0.3         0.3       ]\n",
      " [-1.5         0.3       ]\n",
      " [-0.5         0.3       ]\n",
      " [ 0.0175      2.0944    ]\n",
      " [-0.3         0.3       ]\n",
      " [-0.3         0.3       ]\n",
      " [-0.3         0.3       ]\n",
      " [-0.3         0.3       ]\n",
      " [-1.5         0.3       ]\n",
      " [-0.5         0.3       ]\n",
      " [ 0.0175      2.0944    ]\n",
      " [-0.3         0.3       ]\n",
      " [-0.3         0.3       ]\n",
      " [-0.3         0.3       ]]\n",
      "n_rev_joint:[37]\n",
      "rev_joint_idxs:[ 1  2  3  4  5  6  7  8  9 10 11 12 13 14 15 16 17 18 19 20 21 22 23 24\n",
      " 25 26 27 28 29 30 31 32 33 34 35 36 37]\n",
      "rev_joint_names:['root1', 'root2', 'root3', 'spine1', 'spine2', 'spine3', 'head1', 'head2', 'head3', 'l_shoulder1', 'l_shoulder2', 'l_shoulder3', 'l_elbow', 'l_wrist1', 'l_wrist2', 'l_wrist3', 'r_shoulder1', 'r_shoulder2', 'r_shoulder3', 'r_elbow', 'r_wrist1', 'r_wrist2', 'r_wrist3', 'l_pelvis1', 'l_pelvis2', 'l_pelvis3', 'l_knee', 'l_ankle1', 'l_ankle2', 'l_ankle3', 'r_pelvis1', 'r_pelvis2', 'r_pelvis3', 'r_knee', 'r_ankle1', 'r_ankle2', 'r_ankle3']\n",
      "rev_joint_mins:[-1.5        -1.5        -1.5        -1.5        -1.5        -1.5\n",
      " -1.57       -1.57       -1.57       -3.141592   -3.141592   -3.141592\n",
      " -2.61666667 -3.141592   -3.141592   -3.141592   -3.141592   -3.141592\n",
      " -3.141592    0.01       -3.141592   -3.141592   -3.141592   -0.3\n",
      " -1.5        -0.5         0.0175     -0.3        -0.3        -0.3\n",
      " -0.3        -1.5        -0.5         0.0175     -0.3        -0.3\n",
      " -0.3       ]\n",
      "rev_joint_maxs:[ 1.5         1.5         1.5         1.5         1.5         1.5\n",
      "  1.57        1.57        1.57        3.141592    3.141592    3.141592\n",
      " -0.01        3.141592    3.141592    3.141592    3.141592    3.141592\n",
      "  3.141592    2.61666667  3.141592    3.141592    3.141592    0.3\n",
      "  0.3         0.3         2.0944      0.3         0.3         0.3\n",
      "  0.3         0.3         0.3         2.0944      0.3         0.3\n",
      "  0.3       ]\n",
      "rev_joint_ranges:[3.         3.         3.         3.         3.         3.\n",
      " 3.14       3.14       3.14       6.283184   6.283184   6.283184\n",
      " 2.60666667 6.283184   6.283184   6.283184   6.283184   6.283184\n",
      " 6.283184   2.60666667 6.283184   6.283184   6.283184   0.6\n",
      " 1.8        0.8        2.0769     0.6        0.6        0.6\n",
      " 0.6        1.8        0.8        2.0769     0.6        0.6\n",
      " 0.6       ]\n",
      "n_pri_joint:[0]\n",
      "pri_joint_idxs:[]\n",
      "pri_joint_names:[]\n",
      "pri_joint_mins:[]\n",
      "pri_joint_maxs:[]\n",
      "pri_joint_ranges:[]\n",
      "n_ctrl:[37]\n",
      "ctrl_names:['root1', 'root2', 'root3', 'spine1', 'spine2', 'spine3', 'head1', 'head2', 'head3', 'l_shoulder1', 'l_shoulder2', 'l_shoulder3', 'l_elbow', 'l_wrist1', 'l_wrist2', 'l_wrist3', 'r_shoulder1', 'r_shoulder2', 'r_shoulder3', 'r_elbow', 'r_wrist1', 'r_wrist2', 'r_wrist3', 'l_pelvis1', 'l_pelvis2', 'l_pelvis3', 'l_knee', 'l_ankle1', 'l_ankle2', 'l_ankle3', 'r_pelvis1', 'r_pelvis2', 'r_pelvis3', 'r_knee', 'r_ankle1', 'r_ankle2', 'r_ankle3']\n",
      "ctrl_joint_idxs:[7, 8, 9, 10, 11, 12, 13, 14, 15, 16, 17, 18, 19, 20, 21, 22, 23, 24, 25, 26, 27, 28, 29, 30, 31, 32, 33, 34, 35, 36, 37, 38, 39, 40, 41, 42, 43]\n",
      "ctrl_joint_names:['root1', 'root2', 'root3', 'spine1', 'spine2', 'spine3', 'head1', 'head2', 'head3', 'l_shoulder1', 'l_shoulder2', 'l_shoulder3', 'l_elbow', 'l_wrist1', 'l_wrist2', 'l_wrist3', 'r_shoulder1', 'r_shoulder2', 'r_shoulder3', 'r_elbow', 'r_wrist1', 'r_wrist2', 'r_wrist3', 'l_pelvis1', 'l_pelvis2', 'l_pelvis3', 'l_knee', 'l_ankle1', 'l_ankle2', 'l_ankle3', 'r_pelvis1', 'r_pelvis2', 'r_pelvis3', 'r_knee', 'r_ankle1', 'r_ankle2', 'r_ankle3']\n",
      "ctrl_qvel_idxs:[6, 7, 8, 9, 10, 11, 12, 13, 14, 15, 16, 17, 18, 19, 20, 21, 22, 23, 24, 25, 26, 27, 28, 29, 30, 31, 32, 33, 34, 35, 36, 37, 38, 39, 40, 41, 42]\n",
      "ctrl_ranges:\n",
      "[[-1.  1.]\n",
      " [-1.  1.]\n",
      " [-1.  1.]\n",
      " [-1.  1.]\n",
      " [-1.  1.]\n",
      " [-1.  1.]\n",
      " [-1.  1.]\n",
      " [-1.  1.]\n",
      " [-1.  1.]\n",
      " [-1.  1.]\n",
      " [-1.  1.]\n",
      " [-1.  1.]\n",
      " [-1.  1.]\n",
      " [-1.  1.]\n",
      " [-1.  1.]\n",
      " [-1.  1.]\n",
      " [-1.  1.]\n",
      " [-1.  1.]\n",
      " [-1.  1.]\n",
      " [-1.  1.]\n",
      " [-1.  1.]\n",
      " [-1.  1.]\n",
      " [-1.  1.]\n",
      " [-1.  1.]\n",
      " [-1.  1.]\n",
      " [-1.  1.]\n",
      " [-1.  1.]\n",
      " [-1.  1.]\n",
      " [-1.  1.]\n",
      " [-1.  1.]\n",
      " [-1.  1.]\n",
      " [-1.  1.]\n",
      " [-1.  1.]\n",
      " [-1.  1.]\n",
      " [-1.  1.]\n",
      " [-1.  1.]\n",
      " [-1.  1.]]\n",
      "n_sensor:[0]\n",
      "sensor_names:[]\n",
      "n_site:[20]\n",
      "site_names:['tracking[pelvis]', 'pelvis_site', 'base2spine1', 'spine2spine2', 'spine2spine3', 'head', 'tracking[lhand]', 'tracking[rhand]', 'lpelvis2lknee', 'lknee2lankle', 'lankle', 'foot_left', 'sp0', 'sp1', 'rpelvis2rknee', 'rknee2rankle', 'rankle', 'foot_right', 'sp2', 'sp3']\n",
      "Done.\n"
     ]
    }
   ],
   "source": [
    "xml_path = '../asset/smpl_rig/scene_smpl_rig.xml'\n",
    "env = MuJoCoParserClass(name='smplrig',rel_xml_path=xml_path,VERBOSE=True)\n",
    "# Modify the color of body exluding 'world'\n",
    "for body_name in env.body_names:\n",
    "    if body_name in ['world']: continue\n",
    "    body_idx = env.body_names.index(body_name)\n",
    "    geom_idxs = [idx for idx,val in enumerate(env.model.geom_bodyid) if val==body_idx]\n",
    "    for geom_idx in geom_idxs:\n",
    "        env.model.geom(geom_idx).rgba = [0.3,0.3,0.5,0.5]\n",
    "print (\"Done.\")"
   ]
  },
  {
   "cell_type": "code",
   "execution_count": 4,
   "metadata": {},
   "outputs": [
    {
     "name": "stdout",
     "output_type": "stream",
     "text": [
      "Pressed ESC\n",
      "Quitting.\n",
      "Done.\n"
     ]
    },
    {
     "name": "stderr",
     "output_type": "stream",
     "text": [
      "2024-01-10 17:21:01.021 python[60379:2638472] TSM AdjustCapsLockLEDForKeyTransitionHandling - _ISSetPhysicalKeyboardCapsLockLED Inhibit\n"
     ]
    }
   ],
   "source": [
    "\n",
    "# Initialize MuJoCo viewer\n",
    "env.init_viewer(viewer_title='SMPL',viewer_width=1200,viewer_height=800,\n",
    "                viewer_hide_menus=False)\n",
    "env.update_viewer(azimuth=152,distance=3.0,elevation=-20,lookat=[0.02,-0.03,1.2])\n",
    "env.reset()\n",
    "\n",
    "while env.is_viewer_alive():\n",
    "    env.forward(qpos_batch[env.tick])\n",
    "    if env.loop_every(tick_every=1):\n",
    "        # Plot world frame\n",
    "        env.plot_T(p=np.zeros(3),R=np.eye(3,3),\n",
    "                    PLOT_AXIS=True,axis_len=0.5,axis_width=0.005)\n",
    "        env.plot_T(p=np.array([0,0,0.5]),R=np.eye(3,3),\n",
    "                    PLOT_AXIS=False,label=\"tick:[%d]\"%(env.tick))\n",
    "        # Plot foot\n",
    "        # env.plot_geom_T(geom_name='rfoot',axis_len=0.3)\n",
    "        # env.plot_geom_T(geom_name='lfoot',axis_len=0.3)\n",
    "        # Plot revolute joints with arrow\n",
    "        # env.plot_joint_axis(axis_len=0.1,axis_r=0.01)    \n",
    "        env.render()\n",
    "# Close MuJoCo viewer\n",
    "env.close_viewer()\n",
    "print (\"Done.\")"
   ]
  },
  {
   "cell_type": "code",
   "execution_count": null,
   "metadata": {},
   "outputs": [],
   "source": []
  }
 ],
 "metadata": {
  "kernelspec": {
   "display_name": "Python 3 (ipykernel)",
   "language": "python",
   "name": "python3"
  },
  "language_info": {
   "codemirror_mode": {
    "name": "ipython",
    "version": 3
   },
   "file_extension": ".py",
   "mimetype": "text/x-python",
   "name": "python",
   "nbconvert_exporter": "python",
   "pygments_lexer": "ipython3",
   "version": "3.8.16"
  }
 },
 "nbformat": 4,
 "nbformat_minor": 5
}
