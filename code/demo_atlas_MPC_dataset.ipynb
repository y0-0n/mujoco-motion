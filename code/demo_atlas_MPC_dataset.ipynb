{
 "cells": [
  {
   "cell_type": "markdown",
   "id": "a29fe503",
   "metadata": {},
   "source": [
    "# Playback with  `MPC dataset` and `Ground Truth`"
   ]
  },
  {
   "cell_type": "code",
   "execution_count": 1,
   "id": "61519755",
   "metadata": {},
   "outputs": [
    {
     "name": "stderr",
     "output_type": "stream",
     "text": [
      "/Users/yoonbyung/opt/anaconda3/envs/snapbot/lib/python3.8/site-packages/tqdm/auto.py:21: TqdmWarning: IProgress not found. Please update jupyter and ipywidgets. See https://ipywidgets.readthedocs.io/en/stable/user_install.html\n",
      "  from .autonotebook import tqdm as notebook_tqdm\n"
     ]
    },
    {
     "name": "stdout",
     "output_type": "stream",
     "text": [
      "MuJoCo version:[2.3.7]\n"
     ]
    }
   ],
   "source": [
    "import torch\n",
    "import mujoco\n",
    "import numpy as np\n",
    "import matplotlib.pyplot as plt\n",
    "from mujoco_parser import MuJoCoParserClass\n",
    "from util import rpy2r, r2quat, r2rpy, quat2r\n",
    "import pickle\n",
    "import mediapy as media\n",
    "from util import rpy2r,MultiSliderClass,create_folder_if_not_exists,slerp\n",
    "import cv2,glob,os\n",
    "\n",
    "from policy import GaussianPolicy\n",
    "\n",
    "np.set_printoptions(precision=2,suppress=True,linewidth=100)\n",
    "plt.rc('xtick',labelsize=6); plt.rc('ytick',labelsize=6)\n",
    "%config InlineBackend.figure_format = 'retina'\n",
    "# %matplotlib inline\n",
    "print (\"MuJoCo version:[%s]\"%(mujoco.__version__))"
   ]
  },
  {
   "cell_type": "markdown",
   "id": "cdecc08c",
   "metadata": {},
   "source": [
    "### Load `MPC dataset`"
   ]
  },
  {
   "cell_type": "code",
   "execution_count": 2,
   "id": "4d9313b7",
   "metadata": {},
   "outputs": [
    {
     "name": "stdout",
     "output_type": "stream",
     "text": [
      "obs :  (15750, 37)\n",
      "action :  (15750, 30)\n"
     ]
    }
   ],
   "source": [
    "motion_name = 'Atlas_MPC_motion_240403'\n",
    "with open(file='../data/%s.pkl'%motion_name, mode='rb') as f:\n",
    "    dataset = pickle.load(f)\n",
    "\n",
    "horizon = 50\n",
    "\n",
    "action_batch = np.array(dataset['action'])\n",
    "L = action_batch.shape[0]\n",
    "qpos_batch = np.array(dataset['qpos'])\n",
    "qvel_batch = np.array(dataset['qvel'])\n",
    "\n",
    "action_batch = action_batch.reshape(L * horizon, -1)\n",
    "qpos_batch = qpos_batch.reshape(L * horizon, -1)\n",
    "qvel_batch = qvel_batch.reshape(L * horizon, -1)\n",
    "\n",
    "qpos_batch = qpos_batch[:, :]\n",
    "# qpos_batch = torch.cat((qpos_batch[:-2, :],qpos_batch[1:-1, :],qpos_batch[2:, :]),dim=1)\n",
    "# qvel_batch = torch.cat((qvel_batch[:-2, :],qvel_batch[1:-1, :],qvel_batch[2:, :]),dim=1)\n",
    "\n",
    "root_pos = qpos_batch[:, :3]\n",
    "root_rot = qpos_batch[:, 3:7]\n",
    "root_vel = qvel_batch[:, :3]\n",
    "root_ang_vel = qvel_batch[:, 3:6]\n",
    "dof_pos = qpos_batch[:, 7:44]\n",
    "dof_vel = qvel_batch[:, 6:43]\n",
    "\n",
    "dataset = {\n",
    "    \"root_pos\": root_pos,\n",
    "    \"root_rot\": root_rot,\n",
    "    \"root_vel\": root_vel,\n",
    "    \"root_ang_vel\": root_ang_vel,\n",
    "    \"dof_pos\": dof_pos,\n",
    "    \"dof_vel\": dof_vel,\n",
    "    # \"key_pos\": None,\n",
    "    \"action\": action_batch\n",
    "}\n",
    "\n",
    "N = qpos_batch.shape[0]\n",
    "\n",
    "print(\"obs : \", qpos_batch.shape)\n",
    "print(\"action : \", action_batch.shape)\n"
   ]
  },
  {
   "cell_type": "code",
   "execution_count": 3,
   "id": "aa6bc48a",
   "metadata": {},
   "outputs": [
    {
     "name": "stdout",
     "output_type": "stream",
     "text": [
      "dt:[0.0083] HZ:[120]\n",
      "n_dof (=nv):[36]\n",
      "n_geom:[128]\n",
      "geom_names:['floor', None, None, None, None, None, None, None, None, None, None, None, None, None, None, None, None, None, None, None, None, None, None, None, None, None, None, None, None, None, None, None, None, None, None, None, None, None, None, None, None, None, None, None, None, None, None, None, None, None, None, None, None, None, None, None, None, None, None, None, None, None, None, None, None, None, None, None, None, None, None, None, None, None, None, None, None, None, None, None, None, None, None, None, None, None, None, None, None, None, None, None, None, None, None, None, None, None, None, None, None, None, None, 'l_foot', None, None, None, None, None, None, None, None, None, None, None, None, None, None, None, None, None, None, None, None, None, 'r_foot', None, None]\n",
      "n_body:[32]\n",
      "body_names:['world', 'pelvis', 'ltorso', 'mtorso', 'utorso', 'head', 'l_clav', 'l_scap', 'l_uarm', 'l_larm', 'l_ufarm', 'l_lfarm', 'l_hand', 'r_clav', 'r_scap', 'r_uarm', 'r_larm', 'r_ufarm', 'r_lfarm', 'r_hand', 'l_uglut', 'l_lglut', 'l_uleg', 'l_lleg', 'l_talus', 'l_foot', 'r_uglut', 'r_lglut', 'r_uleg', 'r_lleg', 'r_talus', 'r_foot']\n",
      "n_joint:[31]\n",
      "joint_names:[None, 'back_bkz', 'back_bky', 'back_bkx', 'neck_ry', 'l_arm_shz', 'l_arm_shx', 'l_arm_ely', 'l_arm_elx', 'l_arm_wry', 'l_arm_wrx', 'l_arm_wry2', 'r_arm_shz', 'r_arm_shx', 'r_arm_ely', 'r_arm_elx', 'r_arm_wry', 'r_arm_wrx', 'r_arm_wry2', 'l_leg_hpz', 'l_leg_hpx', 'l_leg_hpy', 'l_leg_kny', 'l_leg_aky', 'l_leg_akx', 'r_leg_hpz', 'r_leg_hpx', 'r_leg_hpy', 'r_leg_kny', 'r_leg_aky', 'r_leg_akx']\n",
      "joint_types:[0 3 3 3 3 3 3 3 3 3 3 3 3 3 3 3 3 3 3 3 3 3 3 3 3 3 3 3 3 3 3]\n",
      "joint_ranges:\n",
      "[[ 0.    0.  ]\n",
      " [-0.66  0.66]\n",
      " [-0.22  0.54]\n",
      " [-0.52  0.52]\n",
      " [-0.6   1.14]\n",
      " [-1.57  0.79]\n",
      " [-1.57  1.57]\n",
      " [ 0.    3.14]\n",
      " [ 0.    2.36]\n",
      " [-3.01  3.01]\n",
      " [-1.76  1.76]\n",
      " [-2.97  2.97]\n",
      " [-0.79  1.57]\n",
      " [-1.57  1.57]\n",
      " [ 0.    3.14]\n",
      " [-2.36  0.  ]\n",
      " [-3.01  3.01]\n",
      " [-1.76  1.76]\n",
      " [-2.97  2.97]\n",
      " [-0.17  0.79]\n",
      " [-0.52  0.52]\n",
      " [-1.61  0.66]\n",
      " [ 0.    2.36]\n",
      " [-1.    0.7 ]\n",
      " [-0.8   0.8 ]\n",
      " [-0.79  0.17]\n",
      " [-0.52  0.52]\n",
      " [-1.61  0.66]\n",
      " [ 0.    2.36]\n",
      " [-1.    0.7 ]\n",
      " [-0.8   0.8 ]]\n",
      "n_rev_joint:[30]\n",
      "rev_joint_idxs:[ 1  2  3  4  5  6  7  8  9 10 11 12 13 14 15 16 17 18 19 20 21 22 23 24 25 26 27 28 29 30]\n",
      "rev_joint_names:['back_bkz', 'back_bky', 'back_bkx', 'neck_ry', 'l_arm_shz', 'l_arm_shx', 'l_arm_ely', 'l_arm_elx', 'l_arm_wry', 'l_arm_wrx', 'l_arm_wry2', 'r_arm_shz', 'r_arm_shx', 'r_arm_ely', 'r_arm_elx', 'r_arm_wry', 'r_arm_wrx', 'r_arm_wry2', 'l_leg_hpz', 'l_leg_hpx', 'l_leg_hpy', 'l_leg_kny', 'l_leg_aky', 'l_leg_akx', 'r_leg_hpz', 'r_leg_hpx', 'r_leg_hpy', 'r_leg_kny', 'r_leg_aky', 'r_leg_akx']\n",
      "rev_joint_mins:[-0.66 -0.22 -0.52 -0.6  -1.57 -1.57  0.    0.   -3.01 -1.76 -2.97 -0.79 -1.57  0.   -2.36 -3.01\n",
      " -1.76 -2.97 -0.17 -0.52 -1.61  0.   -1.   -0.8  -0.79 -0.52 -1.61  0.   -1.   -0.8 ]\n",
      "rev_joint_maxs:[0.66 0.54 0.52 1.14 0.79 1.57 3.14 2.36 3.01 1.76 2.97 1.57 1.57 3.14 0.   3.01 1.76 2.97 0.79\n",
      " 0.52 0.66 2.36 0.7  0.8  0.17 0.52 0.66 2.36 0.7  0.8 ]\n",
      "rev_joint_ranges:[1.33 0.76 1.05 1.75 2.36 3.14 3.14 2.36 6.02 3.53 5.93 2.36 3.14 3.14 2.36 6.02 3.53 5.93 0.96\n",
      " 1.05 2.27 2.36 1.7  1.6  0.96 1.05 2.27 2.36 1.7  1.6 ]\n",
      "n_pri_joint:[0]\n",
      "pri_joint_idxs:[]\n",
      "pri_joint_names:[]\n",
      "pri_joint_mins:[]\n",
      "pri_joint_maxs:[]\n",
      "pri_joint_ranges:[]\n",
      "n_ctrl:[30]\n",
      "ctrl_names:['back_bkz_actuator', 'back_bky_actuator', 'back_bkx_actuator', 'neck_ry_actuator', 'l_arm_shz_actuator', 'l_arm_shx_actuator', 'l_arm_ely_actuator', 'l_arm_elx_actuator', 'l_arm_wry_actuator', 'l_arm_wrx_actuator', 'l_arm_wry2_ctuator', 'r_arm_shz_actuator', 'r_arm_shx_actuator', 'r_arm_ely_actuator', 'r_arm_elx_actuator', 'r_arm_wry_actuator', 'r_arm_wrx_actuator', 'r_arm_wry2_actuator', 'l_leg_hpz_actuator', 'l_leg_hpx_actuator', 'l_leg_hpy_actuator', 'l_leg_kny_actuator', 'l_leg_aky_actuator', 'l_leg_akx_actuator', 'r_leg_hpz_actuator', 'r_leg_hpx_actuator', 'r_leg_hpy_actuator', 'r_leg_kny_actuator', 'r_leg_aky_actuator', 'r_leg_akx_actuator']\n",
      "ctrl_joint_idxs:[7, 8, 9, 10, 11, 12, 13, 14, 15, 16, 17, 18, 19, 20, 21, 22, 23, 24, 25, 26, 27, 28, 29, 30, 31, 32, 33, 34, 35, 36]\n",
      "ctrl_joint_names:['back_bkz', 'back_bky', 'back_bkx', 'neck_ry', 'l_arm_shz', 'l_arm_shx', 'l_arm_ely', 'l_arm_elx', 'l_arm_wry', 'l_arm_wrx', 'l_arm_wry2', 'r_arm_shz', 'r_arm_shx', 'r_arm_ely', 'r_arm_elx', 'r_arm_wry', 'r_arm_wrx', 'r_arm_wry2', 'l_leg_hpz', 'l_leg_hpx', 'l_leg_hpy', 'l_leg_kny', 'l_leg_aky', 'l_leg_akx', 'r_leg_hpz', 'r_leg_hpx', 'r_leg_hpy', 'r_leg_kny', 'r_leg_aky', 'r_leg_akx']\n",
      "ctrl_qvel_idxs:[6, 7, 8, 9, 10, 11, 12, 13, 14, 15, 16, 17, 18, 19, 20, 21, 22, 23, 24, 25, 26, 27, 28, 29, 30, 31, 32, 33, 34, 35]\n",
      "ctrl_ranges:\n",
      "[[-0.95  0.95]\n",
      " [-0.95  0.95]\n",
      " [-0.95  0.95]\n",
      " [-0.95  0.95]\n",
      " [-0.95  0.95]\n",
      " [-0.95  0.95]\n",
      " [-0.95  0.95]\n",
      " [-0.95  0.95]\n",
      " [-0.95  0.95]\n",
      " [-0.95  0.95]\n",
      " [-0.95  0.95]\n",
      " [-0.95  0.95]\n",
      " [-0.95  0.95]\n",
      " [-0.95  0.95]\n",
      " [-0.95  0.95]\n",
      " [-0.95  0.95]\n",
      " [-0.95  0.95]\n",
      " [-0.95  0.95]\n",
      " [-0.95  0.95]\n",
      " [-0.95  0.95]\n",
      " [-0.95  0.95]\n",
      " [-0.95  0.95]\n",
      " [-0.95  0.95]\n",
      " [-0.95  0.95]\n",
      " [-0.95  0.95]\n",
      " [-0.95  0.95]\n",
      " [-0.95  0.95]\n",
      " [-0.95  0.95]\n",
      " [-0.95  0.95]\n",
      " [-0.95  0.95]]\n",
      "n_sensor:[0]\n",
      "sensor_names:[]\n",
      "n_site:[0]\n",
      "site_names:[]\n",
      "Done.\n"
     ]
    }
   ],
   "source": [
    "xml_path = '../asset/atlas_v5/scene_atlas.xml'\n",
    "env = MuJoCoParserClass(name='smplrig',rel_xml_path=xml_path,VERBOSE=True)\n",
    "# Modify the color of body exluding 'world'\n",
    "for body_name in env.body_names:\n",
    "    if body_name in ['world']: continue\n",
    "    body_idx = env.body_names.index(body_name)\n",
    "    geom_idxs = [idx for idx,val in enumerate(env.model.geom_bodyid) if val==body_idx]\n",
    "    # for geom_idx in geom_idxs:\n",
    "    #     env.model.geom(geom_idx).rgba = [0.3,0.3,0.5,0.5]\n",
    "print (\"Done.\")"
   ]
  },
  {
   "cell_type": "code",
   "execution_count": 4,
   "id": "96c82a45",
   "metadata": {},
   "outputs": [],
   "source": [
    "KEY_BODY_NAMES = [\"r_foot\", \"l_foot\", \"r_hand\", \"l_hand\"]\n",
    "key_body_ids= np.array(env.get_idxs_body(KEY_BODY_NAMES))"
   ]
  },
  {
   "cell_type": "code",
   "execution_count": 5,
   "id": "d6e00205",
   "metadata": {},
   "outputs": [],
   "source": [
    "# Set which joints to control\n",
    "ctrl_joint_names = env.ctrl_joint_names # <==\n",
    "joint_idxs_fwd = env.get_idxs_fwd(joint_names=ctrl_joint_names)\n",
    "joint_idxs_jac = env.get_idxs_jac(joint_names=ctrl_joint_names)\n",
    "q_ctrl_init = env.get_qpos_joints(ctrl_joint_names)\n",
    "n_ctrl_joint = len(ctrl_joint_names)"
   ]
  },
  {
   "cell_type": "code",
   "execution_count": 6,
   "id": "7ed67fa8",
   "metadata": {},
   "outputs": [
    {
     "name": "stdout",
     "output_type": "stream",
     "text": [
      "PLOT_EVERY:[4] \n"
     ]
    }
   ],
   "source": [
    "PLOT_EVERY  = 4\n",
    "print (\"PLOT_EVERY:[%d] \"%(PLOT_EVERY))"
   ]
  },
  {
   "cell_type": "markdown",
   "id": "7427fad9",
   "metadata": {},
   "source": [
    "### Playback and Reconstruct Observation"
   ]
  },
  {
   "cell_type": "code",
   "execution_count": 7,
   "id": "6b81f77f",
   "metadata": {},
   "outputs": [],
   "source": [
    "# Initialize MuJoCo viewer\n",
    "env.init_viewer(viewer_title='Atlas',viewer_width=1200,viewer_height=800,\n",
    "                viewer_hide_menus=False)\n",
    "env.update_viewer(azimuth=152,distance=3.0,elevation=-20,lookat=[0.02,-0.03,1.2])\n",
    "env.reset()\n",
    "\n",
    "key_pos_batch = np.zeros((root_pos.shape[0], 4, 3))\n",
    "\n",
    "for t in range(L):\n",
    "    for h in range(horizon):\n",
    "        qpos = qpos_batch[h]\n",
    "        env.forward(qpos)\n",
    "\n",
    "        key_pos_batch[horizon*t+h] = env.data.xpos[key_body_ids]\n",
    "    \n",
    "        if env.loop_every(tick_every=1):\n",
    "            # Plot world frame\n",
    "            env.plot_T(p=np.zeros(3),R=np.eye(3,3),\n",
    "                    PLOT_AXIS=True,axis_len=0.5,axis_width=0.005)\n",
    "            env.plot_T(p=np.array([0,0,0.5]),R=np.eye(3,3),\n",
    "                    PLOT_AXIS=False,label=\"tick:[%d]\"%(env.tick))\n",
    "\n",
    "            # Key body\n",
    "            for p_GT in env.data.xpos[key_body_ids]:\n",
    "                env.plot_sphere(p=p_GT,r=0.02,rgba=[1,0.2,0.2,1])\n",
    "            \n",
    "            # env.render()"
   ]
  },
  {
   "cell_type": "markdown",
   "id": "57a2e5f3",
   "metadata": {},
   "source": [
    "### Compute Reward"
   ]
  },
  {
   "cell_type": "code",
   "execution_count": 8,
   "id": "ebbc89c0",
   "metadata": {},
   "outputs": [
    {
     "data": {
      "text/plain": [
       "dict_keys(['root_pos', 'root_rot', 'root_vel', 'root_ang_vel', 'dof_pos', 'dof_vel', 'action', 'local_key_pos'])"
      ]
     },
     "execution_count": 8,
     "metadata": {},
     "output_type": "execute_result"
    }
   ],
   "source": [
    "# dataset['key_pos'] = key_pos_batch\n",
    "\n",
    "local_key_pos_batch = key_pos_batch - np.expand_dims(root_pos, 1)\n",
    "dataset['local_key_pos'] = local_key_pos_batch\n",
    "\n",
    "dataset.keys()"
   ]
  },
  {
   "cell_type": "code",
   "execution_count": 9,
   "id": "742cf409",
   "metadata": {},
   "outputs": [],
   "source": [
    "dataset_name = motion_name.replace('motion', 'dataset')\n",
    "with open(file='../data/%s.pkl'%dataset_name, mode='wb') as f:\n",
    "    pickle.dump(dataset, f)"
   ]
  }
 ],
 "metadata": {
  "kernelspec": {
   "display_name": "snapbot",
   "language": "python",
   "name": "python3"
  },
  "language_info": {
   "codemirror_mode": {
    "name": "ipython",
    "version": 3
   },
   "file_extension": ".py",
   "mimetype": "text/x-python",
   "name": "python",
   "nbconvert_exporter": "python",
   "pygments_lexer": "ipython3",
   "version": "3.8.16"
  }
 },
 "nbformat": 4,
 "nbformat_minor": 5
}
